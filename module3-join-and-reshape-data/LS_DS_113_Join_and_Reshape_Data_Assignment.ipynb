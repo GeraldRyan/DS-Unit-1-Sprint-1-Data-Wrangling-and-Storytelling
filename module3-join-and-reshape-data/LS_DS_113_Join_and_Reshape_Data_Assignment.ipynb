{
  "nbformat": 4,
  "nbformat_minor": 0,
  "metadata": {
    "colab": {
      "name": "LS_DS_113_Join_and_Reshape_Data_Assignment.ipynb",
      "provenance": [],
      "collapsed_sections": [],
      "machine_shape": "hm",
      "include_colab_link": true
    },
    "kernelspec": {
      "display_name": "Python 3",
      "language": "python",
      "name": "python3"
    }
  },
  "cells": [
    {
      "cell_type": "markdown",
      "metadata": {
        "id": "view-in-github",
        "colab_type": "text"
      },
      "source": [
        "<a href=\"https://colab.research.google.com/github/GeraldRyan/DS-Unit-1-Sprint-1-Data-Wrangling-and-Storytelling/blob/master/module3-join-and-reshape-data/LS_DS_113_Join_and_Reshape_Data_Assignment.ipynb\" target=\"_parent\"><img src=\"https://colab.research.google.com/assets/colab-badge.svg\" alt=\"Open In Colab\"/></a>"
      ]
    },
    {
      "cell_type": "markdown",
      "metadata": {
        "id": "pmU5YUal1eTZ"
      },
      "source": [
        "_Lambda School Data Science_\n",
        "\n",
        "# Join and Reshape datasets\n",
        "\n",
        "Objectives\n",
        "- concatenate data with pandas\n",
        "- merge data with pandas\n",
        "-  understand tidy data formatting\n",
        "-  melt and pivot data with pandas\n",
        "\n",
        "Links\n",
        "- [Pandas Cheat Sheet](https://github.com/pandas-dev/pandas/blob/master/doc/cheatsheet/Pandas_Cheat_Sheet.pdf)\n",
        "- [Tidy Data](https://en.wikipedia.org/wiki/Tidy_data)\n",
        "  - Combine Data Sets: Standard Joins\n",
        "  - Tidy Data\n",
        "  - Reshaping Data\n",
        "- Python Data Science Handbook\n",
        "  - [Chapter 3.6](https://jakevdp.github.io/PythonDataScienceHandbook/03.06-concat-and-append.html), Combining Datasets: Concat and Append\n",
        "  - [Chapter 3.7](https://jakevdp.github.io/PythonDataScienceHandbook/03.07-merge-and-join.html), Combining Datasets: Merge and Join\n",
        "  - [Chapter 3.8](https://jakevdp.github.io/PythonDataScienceHandbook/03.08-aggregation-and-grouping.html), Aggregation and Grouping\n",
        "  - [Chapter 3.9](https://jakevdp.github.io/PythonDataScienceHandbook/03.09-pivot-tables.html), Pivot Tables\n",
        "  \n",
        "Reference\n",
        "- Pandas Documentation: [Reshaping and Pivot Tables](https://pandas.pydata.org/pandas-docs/stable/reshaping.html)\n",
        "- Modern Pandas, Part 5: [Tidy Data](https://tomaugspurger.github.io/modern-5-tidy.html)"
      ]
    },
    {
      "cell_type": "code",
      "metadata": {
        "id": "4E3wKrdTChuC",
        "outputId": "d099602e-542d-4888-904e-7ae00383f086",
        "colab": {
          "base_uri": "https://localhost:8080/",
          "height": 462
        }
      },
      "source": [
        "#!wget https://s3.amazonaws.com/instacart-datasets/instacart_online_grocery_shopping_2017_05_01.tar.gz \n",
        "\n",
        "# Make sure we're in the top-level /content directory\n",
        "#\n",
        "# See below for notes on the cd command and why it's %cd instead of !cd\n",
        "%cd /content\n",
        "\n",
        "# Remove everything in the current working directory\n",
        "#\n",
        "# rm is the remove command\n",
        "# -rf specifies the \"recursive\" and \"force\" options to remove all files in \n",
        "# subdirectories without prompting\n",
        "#\n",
        "# THIS IS A POWERFUL COMMAND! DO NOT run this command on your local computer - ever!!\n",
        "#\n",
        "# In this particular case, removing all of the files makes things easier if you\n",
        "# need to re-run these examples by allowing you start with a clean directory\n",
        "# every time.\n",
        "!rm -rf *\n",
        "\n",
        "# wget retrieves files from a remote location\n",
        "!wget https://www.dropbox.com/s/pofcl26lvoj6073/instacart-market-basket-analysis.zip"
      ],
      "execution_count": 2,
      "outputs": [
        {
          "output_type": "stream",
          "text": [
            "/content\n",
            "--2020-10-06 20:23:13--  https://www.dropbox.com/s/pofcl26lvoj6073/instacart-market-basket-analysis.zip\n",
            "Resolving www.dropbox.com (www.dropbox.com)... 162.125.65.1, 2620:100:6021:1::a27d:4101\n",
            "Connecting to www.dropbox.com (www.dropbox.com)|162.125.65.1|:443... connected.\n",
            "HTTP request sent, awaiting response... 301 Moved Permanently\n",
            "Location: /s/raw/pofcl26lvoj6073/instacart-market-basket-analysis.zip [following]\n",
            "--2020-10-06 20:23:13--  https://www.dropbox.com/s/raw/pofcl26lvoj6073/instacart-market-basket-analysis.zip\n",
            "Reusing existing connection to www.dropbox.com:443.\n",
            "HTTP request sent, awaiting response... 302 Found\n",
            "Location: https://uc6469319cc85c72d57292972b5a.dl.dropboxusercontent.com/cd/0/inline/BAy4DojjjHmNbkNIMZ8aE_bSloAbhrPcKDNXFrd6lG5gTYtwUVH4eZpQnY7mq3N0CS2mCUXa099oZbVeQCiH1Pnn9Mr8owt5zHpRNtJy77RoZsstA0-0gZeywS46jFzYocg/file# [following]\n",
            "--2020-10-06 20:23:14--  https://uc6469319cc85c72d57292972b5a.dl.dropboxusercontent.com/cd/0/inline/BAy4DojjjHmNbkNIMZ8aE_bSloAbhrPcKDNXFrd6lG5gTYtwUVH4eZpQnY7mq3N0CS2mCUXa099oZbVeQCiH1Pnn9Mr8owt5zHpRNtJy77RoZsstA0-0gZeywS46jFzYocg/file\n",
            "Resolving uc6469319cc85c72d57292972b5a.dl.dropboxusercontent.com (uc6469319cc85c72d57292972b5a.dl.dropboxusercontent.com)... 162.125.65.15, 2620:100:6021:15::a27d:410f\n",
            "Connecting to uc6469319cc85c72d57292972b5a.dl.dropboxusercontent.com (uc6469319cc85c72d57292972b5a.dl.dropboxusercontent.com)|162.125.65.15|:443... connected.\n",
            "HTTP request sent, awaiting response... 302 Found\n",
            "Location: /cd/0/inline2/BAx2qpbSUgBmDF5khXHi6Ln2dVG_nZ2VCJr9mlnLll0pByjJ6wHEhvt6t47QAvjVKsJMwO5O-Ywz-SruCxqBGSXsT6Y72bbY-TQpTys0AoxlvK4kfyJLhjlDGQUZ_9SgKmd8CCTLSzNk4Qn_q9F9KtuhR82_EuRLMWTcWfBOjpzNnjPYf6EOk_vJncruJoquKGYwXeP8gVIb0330M5rH2MymXOPUwFsgi6XtNjsG0tINgFPlEDcEVEU1ahn_KmCXHvduvdDHC4v-hC03MosB23QjjYSbsyARyh3XgySaRPYj24HzSg1SD32nREKltqmf9FGBIVVXJlbegpCL13HA8UeEURO2fIkHyYljROeZr29I3A/file [following]\n",
            "--2020-10-06 20:23:14--  https://uc6469319cc85c72d57292972b5a.dl.dropboxusercontent.com/cd/0/inline2/BAx2qpbSUgBmDF5khXHi6Ln2dVG_nZ2VCJr9mlnLll0pByjJ6wHEhvt6t47QAvjVKsJMwO5O-Ywz-SruCxqBGSXsT6Y72bbY-TQpTys0AoxlvK4kfyJLhjlDGQUZ_9SgKmd8CCTLSzNk4Qn_q9F9KtuhR82_EuRLMWTcWfBOjpzNnjPYf6EOk_vJncruJoquKGYwXeP8gVIb0330M5rH2MymXOPUwFsgi6XtNjsG0tINgFPlEDcEVEU1ahn_KmCXHvduvdDHC4v-hC03MosB23QjjYSbsyARyh3XgySaRPYj24HzSg1SD32nREKltqmf9FGBIVVXJlbegpCL13HA8UeEURO2fIkHyYljROeZr29I3A/file\n",
            "Reusing existing connection to uc6469319cc85c72d57292972b5a.dl.dropboxusercontent.com:443.\n",
            "HTTP request sent, awaiting response... 200 OK\n",
            "Length: 205616541 (196M) [application/zip]\n",
            "Saving to: ‘instacart-market-basket-analysis.zip’\n",
            "\n",
            "instacart-market-ba 100%[===================>] 196.09M  17.2MB/s    in 11s     \n",
            "\n",
            "2020-10-06 20:23:26 (17.2 MB/s) - ‘instacart-market-basket-analysis.zip’ saved [205616541/205616541]\n",
            "\n"
          ],
          "name": "stdout"
        }
      ]
    },
    {
      "cell_type": "code",
      "metadata": {
        "id": "dkxqMNGrDJrM",
        "outputId": "ad76e6aa-eb79-44e6-b63a-a434f77c8c39",
        "colab": {
          "base_uri": "https://localhost:8080/",
          "height": 306
        }
      },
      "source": [
        "# Unzip the archive\n",
        "#\n",
        "# Creates a new directory called instacart-market-basket-analysis\n",
        "\n",
        "!unzip instacart-market-basket-analysis.zip"
      ],
      "execution_count": 22,
      "outputs": [
        {
          "output_type": "stream",
          "text": [
            "Archive:  instacart-market-basket-analysis.zip\n",
            "   creating: instacart-market-basket-analysis/\n",
            "  inflating: __MACOSX/._instacart-market-basket-analysis  \n",
            "  inflating: instacart-market-basket-analysis/order_products__prior.csv.zip  \n",
            "  inflating: __MACOSX/instacart-market-basket-analysis/._order_products__prior.csv.zip  \n",
            "  inflating: instacart-market-basket-analysis/.DS_Store  \n",
            "  inflating: __MACOSX/instacart-market-basket-analysis/._.DS_Store  \n",
            "  inflating: instacart-market-basket-analysis/order_products__train.csv.zip  \n",
            "  inflating: __MACOSX/instacart-market-basket-analysis/._order_products__train.csv.zip  \n",
            "  inflating: instacart-market-basket-analysis/aisles.csv.zip  \n",
            "  inflating: __MACOSX/instacart-market-basket-analysis/._aisles.csv.zip  \n",
            "  inflating: instacart-market-basket-analysis/orders.csv.zip  \n",
            "  inflating: __MACOSX/instacart-market-basket-analysis/._orders.csv.zip  \n",
            "  inflating: instacart-market-basket-analysis/departments.csv.zip  \n",
            "  inflating: __MACOSX/instacart-market-basket-analysis/._departments.csv.zip  \n",
            "  inflating: instacart-market-basket-analysis/products.csv.zip  \n",
            "  inflating: __MACOSX/instacart-market-basket-analysis/._products.csv.zip  \n"
          ],
          "name": "stdout"
        }
      ]
    },
    {
      "cell_type": "code",
      "metadata": {
        "id": "qaDdXbQqCnGc",
        "outputId": "c6ec3610-cc98-475c-dd66-d660a509836c",
        "colab": {
          "base_uri": "https://localhost:8080/",
          "height": 34
        }
      },
      "source": [
        "# Change into the newly-unzipped directory\n",
        "#\n",
        "# % sign is required to change to a new directory -- you can't use !cd like\n",
        "# other commands\n",
        "#\n",
        "# Optional technical details:\n",
        "#\n",
        "# % makes the command apply to the **entire notebook environment**, which is\n",
        "# what you need to do to change the working directory\n",
        "#\n",
        "# The ! sign **opens a new shell process** behind the scenes to execute the\n",
        "# command -- this works fine for regular commands like unzip and ls\n",
        "#\n",
        "# Therefore, !cd would apply only to that new shell and wouldn't change the\n",
        "# global notebook environment\n",
        "#\n",
        "# If this makes your heard hurt, don't worry too much about it. We'll talk\n",
        "# more about the shell and operating systems stuff later in the program.\n",
        "\n",
        "%cd instacart-market-basket-analysis"
      ],
      "execution_count": 25,
      "outputs": [
        {
          "output_type": "stream",
          "text": [
            "/content/instacart-market-basket-analysis\n"
          ],
          "name": "stdout"
        }
      ]
    },
    {
      "cell_type": "code",
      "metadata": {
        "id": "eADz6civ204P",
        "outputId": "349e3cb4-ce64-4a43-b27f-e9ab0433bbab",
        "colab": {
          "base_uri": "https://localhost:8080/",
          "height": 459
        }
      },
      "source": [
        "# Unzip all .csv.zip files in the directory\n",
        "!unzip \"*.zip\""
      ],
      "execution_count": 28,
      "outputs": [
        {
          "output_type": "stream",
          "text": [
            "Archive:  products.csv.zip\n",
            "  inflating: products.csv            \n",
            "   creating: __MACOSX/\n",
            "  inflating: __MACOSX/._products.csv  \n",
            "\n",
            "Archive:  order_products__train.csv.zip\n",
            "  inflating: order_products__train.csv  \n",
            "  inflating: __MACOSX/._order_products__train.csv  \n",
            "\n",
            "Archive:  aisles.csv.zip\n",
            "  inflating: aisles.csv              \n",
            "  inflating: __MACOSX/._aisles.csv   \n",
            "\n",
            "Archive:  orders.csv.zip\n",
            "  inflating: orders.csv              \n",
            "  inflating: __MACOSX/._orders.csv   \n",
            "\n",
            "Archive:  order_products__prior.csv.zip\n",
            "  inflating: order_products__prior.csv  \n",
            "  inflating: __MACOSX/._order_products__prior.csv  \n",
            "\n",
            "Archive:  departments.csv.zip\n",
            "  inflating: departments.csv         \n",
            "  inflating: __MACOSX/._departments.csv  \n",
            "\n",
            "6 archives were successfully processed.\n"
          ],
          "name": "stdout"
        }
      ]
    },
    {
      "cell_type": "code",
      "metadata": {
        "id": "nnEkWO4E2_w2",
        "outputId": "fa575298-e54e-4f9f-eb0a-699edf7c5557",
        "colab": {
          "base_uri": "https://localhost:8080/",
          "height": 119
        }
      },
      "source": [
        "# List all csv files in the current directory\n",
        "# -l specifies the \"long\" listing format, which includes additional info on each file\n",
        "# -h specifies \"human readable\" file size units\n",
        "!ls -l -h *.csv"
      ],
      "execution_count": 29,
      "outputs": [
        {
          "output_type": "stream",
          "text": [
            "-rw-r--r-- 1 root root 2.6K May  2  2017 aisles.csv\n",
            "-rw-r--r-- 1 root root  270 May  2  2017 departments.csv\n",
            "-rw-r--r-- 1 root root 551M May  2  2017 order_products__prior.csv\n",
            "-rw-r--r-- 1 root root  24M May  2  2017 order_products__train.csv\n",
            "-rw-r--r-- 1 root root 104M May  2  2017 orders.csv\n",
            "-rw-r--r-- 1 root root 2.1M May  2  2017 products.csv\n"
          ],
          "name": "stdout"
        }
      ]
    },
    {
      "cell_type": "markdown",
      "metadata": {
        "id": "kAMtvSQWPUcj"
      },
      "source": [
        "# Assignment\n",
        "\n",
        "## Practice joining data\n",
        "\n",
        "These are the top 10 most frequently ordered products. How many times was each ordered? \n",
        "\n",
        "1. Banana\n",
        "2. Bag of Organic Bananas\n",
        "3. Organic Strawberries\n",
        "4. Organic Baby Spinach \n",
        "5. Organic Hass Avocado\n",
        "6. Organic Avocado\n",
        "7. Large Lemon \n",
        "8. Strawberries\n",
        "9. Limes \n",
        "10. Organic Whole Milk\n",
        "\n",
        "**Here is what you need to do:**\n",
        "\n",
        "* First, write down which columns you need and which dataframes have them.\n",
        "* Next, merge these into a single dataframe.\n",
        "* Then, use pandas functions from the previous lesson to get the **counts of the top 10 most frequently ordered products**."
      ]
    },
    {
      "cell_type": "markdown",
      "metadata": {
        "id": "xDyL5XUi4FKq"
      },
      "source": [
        "###1) Read in and concatenate the order_products__prior.csv and order_products__train.csv CSVs.  Name the resulting dataset order_products."
      ]
    },
    {
      "cell_type": "code",
      "metadata": {
        "id": "9yN4T6hf-CjM"
      },
      "source": [
        "##### YOUR CODE HERE #####\n",
        "import numpy as np\n",
        "import pandas as pd\n"
      ],
      "execution_count": 30,
      "outputs": []
    },
    {
      "cell_type": "code",
      "metadata": {
        "id": "cDyWs5oEn37i"
      },
      "source": [
        "opp = pd.read_csv('order_products__prior.csv')\n",
        "opt = pd.read_csv('order_products__train.csv')\n",
        "orders= pd.read_csv(\"orders.csv\")\n"
      ],
      "execution_count": null,
      "outputs": []
    },
    {
      "cell_type": "code",
      "metadata": {
        "id": "7sdfnA0vuuGB",
        "outputId": "5a40c2fb-ccf3-4438-fb70-a0d63b76a167",
        "colab": {
          "base_uri": "https://localhost:8080/",
          "height": 34
        }
      },
      "source": [
        "#Concatenate the two appropriately\n",
        "order_products = pd.concat([opp, opt])\n",
        "order_products.shape"
      ],
      "execution_count": 46,
      "outputs": [
        {
          "output_type": "execute_result",
          "data": {
            "text/plain": [
              "(33819106, 4)"
            ]
          },
          "metadata": {
            "tags": []
          },
          "execution_count": 46
        }
      ]
    },
    {
      "cell_type": "markdown",
      "metadata": {
        "id": "l7U-7OTS62Oq"
      },
      "source": [
        "###2) Create a list called ten_products that contains the names of the top 10 products ordered.  Be very careful about spelling and capitalization."
      ]
    },
    {
      "cell_type": "code",
      "metadata": {
        "id": "hziwZRVq0mVh"
      },
      "source": [
        "from IPython.display import display, Image"
      ],
      "execution_count": null,
      "outputs": []
    },
    {
      "cell_type": "code",
      "metadata": {
        "id": "SRTC2sVf5dbL",
        "outputId": "224deaa7-00fc-471f-e221-4c3a41c1d935",
        "colab": {
          "base_uri": "https://localhost:8080/",
          "height": 204
        }
      },
      "source": [
        "products = pd.read_csv(\"products.csv\")\n",
        "products.head()\n"
      ],
      "execution_count": 70,
      "outputs": [
        {
          "output_type": "execute_result",
          "data": {
            "text/html": [
              "<div>\n",
              "<style scoped>\n",
              "    .dataframe tbody tr th:only-of-type {\n",
              "        vertical-align: middle;\n",
              "    }\n",
              "\n",
              "    .dataframe tbody tr th {\n",
              "        vertical-align: top;\n",
              "    }\n",
              "\n",
              "    .dataframe thead th {\n",
              "        text-align: right;\n",
              "    }\n",
              "</style>\n",
              "<table border=\"1\" class=\"dataframe\">\n",
              "  <thead>\n",
              "    <tr style=\"text-align: right;\">\n",
              "      <th></th>\n",
              "      <th>product_id</th>\n",
              "      <th>product_name</th>\n",
              "      <th>aisle_id</th>\n",
              "      <th>department_id</th>\n",
              "    </tr>\n",
              "  </thead>\n",
              "  <tbody>\n",
              "    <tr>\n",
              "      <th>0</th>\n",
              "      <td>1</td>\n",
              "      <td>Chocolate Sandwich Cookies</td>\n",
              "      <td>61</td>\n",
              "      <td>19</td>\n",
              "    </tr>\n",
              "    <tr>\n",
              "      <th>1</th>\n",
              "      <td>2</td>\n",
              "      <td>All-Seasons Salt</td>\n",
              "      <td>104</td>\n",
              "      <td>13</td>\n",
              "    </tr>\n",
              "    <tr>\n",
              "      <th>2</th>\n",
              "      <td>3</td>\n",
              "      <td>Robust Golden Unsweetened Oolong Tea</td>\n",
              "      <td>94</td>\n",
              "      <td>7</td>\n",
              "    </tr>\n",
              "    <tr>\n",
              "      <th>3</th>\n",
              "      <td>4</td>\n",
              "      <td>Smart Ones Classic Favorites Mini Rigatoni Wit...</td>\n",
              "      <td>38</td>\n",
              "      <td>1</td>\n",
              "    </tr>\n",
              "    <tr>\n",
              "      <th>4</th>\n",
              "      <td>5</td>\n",
              "      <td>Green Chile Anytime Sauce</td>\n",
              "      <td>5</td>\n",
              "      <td>13</td>\n",
              "    </tr>\n",
              "  </tbody>\n",
              "</table>\n",
              "</div>"
            ],
            "text/plain": [
              "   product_id  ... department_id\n",
              "0           1  ...            19\n",
              "1           2  ...            13\n",
              "2           3  ...             7\n",
              "3           4  ...             1\n",
              "4           5  ...            13\n",
              "\n",
              "[5 rows x 4 columns]"
            ]
          },
          "metadata": {
            "tags": []
          },
          "execution_count": 70
        }
      ]
    },
    {
      "cell_type": "code",
      "metadata": {
        "id": "kQ81pZoD6Imo"
      },
      "source": [
        "order_products_mapped = pd.merge(order_products, products[['product_id','product_name']], on='product_id', )"
      ],
      "execution_count": 80,
      "outputs": []
    },
    {
      "cell_type": "code",
      "metadata": {
        "id": "c5NdsAQO-PkM"
      },
      "source": [
        "##### YOUR CODE HERE #####\n",
        "top_ten = [\"Banana\", \"Bag of Organic Bananas\",\"Organic Strawberries\",\"Organic Baby Spinach\",\"Organic Hass Avocado\",\"Organic Avocado\",\"Large Lemon\",\"Strawberries\",\"Limes\",\"Organic Whole Milk\"]\n",
        "## Took me forever to figure out where to get this information. Turns out it was just given in the intro!!! "
      ],
      "execution_count": 97,
      "outputs": []
    },
    {
      "cell_type": "markdown",
      "metadata": {
        "id": "mgWJ5XjuHqcW"
      },
      "source": [
        "###3) Read in products.csv and name the dataset \"products\"."
      ]
    },
    {
      "cell_type": "code",
      "metadata": {
        "id": "MFZ10NlrH91B",
        "outputId": "d5675ff9-da93-4a48-bec3-bd44dab5e928",
        "colab": {
          "base_uri": "https://localhost:8080/",
          "height": 204
        }
      },
      "source": [
        "##### YOUR CODE HERE #####\n",
        "## Already done above\n",
        "products.head()"
      ],
      "execution_count": 90,
      "outputs": [
        {
          "output_type": "execute_result",
          "data": {
            "text/html": [
              "<div>\n",
              "<style scoped>\n",
              "    .dataframe tbody tr th:only-of-type {\n",
              "        vertical-align: middle;\n",
              "    }\n",
              "\n",
              "    .dataframe tbody tr th {\n",
              "        vertical-align: top;\n",
              "    }\n",
              "\n",
              "    .dataframe thead th {\n",
              "        text-align: right;\n",
              "    }\n",
              "</style>\n",
              "<table border=\"1\" class=\"dataframe\">\n",
              "  <thead>\n",
              "    <tr style=\"text-align: right;\">\n",
              "      <th></th>\n",
              "      <th>product_id</th>\n",
              "      <th>product_name</th>\n",
              "      <th>aisle_id</th>\n",
              "      <th>department_id</th>\n",
              "    </tr>\n",
              "  </thead>\n",
              "  <tbody>\n",
              "    <tr>\n",
              "      <th>0</th>\n",
              "      <td>1</td>\n",
              "      <td>Chocolate Sandwich Cookies</td>\n",
              "      <td>61</td>\n",
              "      <td>19</td>\n",
              "    </tr>\n",
              "    <tr>\n",
              "      <th>1</th>\n",
              "      <td>2</td>\n",
              "      <td>All-Seasons Salt</td>\n",
              "      <td>104</td>\n",
              "      <td>13</td>\n",
              "    </tr>\n",
              "    <tr>\n",
              "      <th>2</th>\n",
              "      <td>3</td>\n",
              "      <td>Robust Golden Unsweetened Oolong Tea</td>\n",
              "      <td>94</td>\n",
              "      <td>7</td>\n",
              "    </tr>\n",
              "    <tr>\n",
              "      <th>3</th>\n",
              "      <td>4</td>\n",
              "      <td>Smart Ones Classic Favorites Mini Rigatoni Wit...</td>\n",
              "      <td>38</td>\n",
              "      <td>1</td>\n",
              "    </tr>\n",
              "    <tr>\n",
              "      <th>4</th>\n",
              "      <td>5</td>\n",
              "      <td>Green Chile Anytime Sauce</td>\n",
              "      <td>5</td>\n",
              "      <td>13</td>\n",
              "    </tr>\n",
              "  </tbody>\n",
              "</table>\n",
              "</div>"
            ],
            "text/plain": [
              "   product_id  ... department_id\n",
              "0           1  ...            19\n",
              "1           2  ...            13\n",
              "2           3  ...             7\n",
              "3           4  ...             1\n",
              "4           5  ...            13\n",
              "\n",
              "[5 rows x 4 columns]"
            ]
          },
          "metadata": {
            "tags": []
          },
          "execution_count": 90
        }
      ]
    },
    {
      "cell_type": "markdown",
      "metadata": {
        "id": "VGBvJuw4A7KB"
      },
      "source": [
        "###4) Select only the rows of the products dataset that contain one of the top 10 most ordered products.  Rename that dataset \"products\"."
      ]
    },
    {
      "cell_type": "code",
      "metadata": {
        "id": "z6ERi_LO-Z9q",
        "outputId": "b76311a8-f37b-4d14-f279-8b710968aeac",
        "colab": {
          "base_uri": "https://localhost:8080/",
          "height": 359
        }
      },
      "source": [
        "##### YOUR CODE HERE #####\n",
        "filtered_products = products[products['product_name'].isin(top_ten)]\n",
        "filtered_products.head(10)"
      ],
      "execution_count": 104,
      "outputs": [
        {
          "output_type": "execute_result",
          "data": {
            "text/html": [
              "<div>\n",
              "<style scoped>\n",
              "    .dataframe tbody tr th:only-of-type {\n",
              "        vertical-align: middle;\n",
              "    }\n",
              "\n",
              "    .dataframe tbody tr th {\n",
              "        vertical-align: top;\n",
              "    }\n",
              "\n",
              "    .dataframe thead th {\n",
              "        text-align: right;\n",
              "    }\n",
              "</style>\n",
              "<table border=\"1\" class=\"dataframe\">\n",
              "  <thead>\n",
              "    <tr style=\"text-align: right;\">\n",
              "      <th></th>\n",
              "      <th>product_id</th>\n",
              "      <th>product_name</th>\n",
              "      <th>aisle_id</th>\n",
              "      <th>department_id</th>\n",
              "    </tr>\n",
              "  </thead>\n",
              "  <tbody>\n",
              "    <tr>\n",
              "      <th>13175</th>\n",
              "      <td>13176</td>\n",
              "      <td>Bag of Organic Bananas</td>\n",
              "      <td>24</td>\n",
              "      <td>4</td>\n",
              "    </tr>\n",
              "    <tr>\n",
              "      <th>16796</th>\n",
              "      <td>16797</td>\n",
              "      <td>Strawberries</td>\n",
              "      <td>24</td>\n",
              "      <td>4</td>\n",
              "    </tr>\n",
              "    <tr>\n",
              "      <th>21136</th>\n",
              "      <td>21137</td>\n",
              "      <td>Organic Strawberries</td>\n",
              "      <td>24</td>\n",
              "      <td>4</td>\n",
              "    </tr>\n",
              "    <tr>\n",
              "      <th>21902</th>\n",
              "      <td>21903</td>\n",
              "      <td>Organic Baby Spinach</td>\n",
              "      <td>123</td>\n",
              "      <td>4</td>\n",
              "    </tr>\n",
              "    <tr>\n",
              "      <th>24851</th>\n",
              "      <td>24852</td>\n",
              "      <td>Banana</td>\n",
              "      <td>24</td>\n",
              "      <td>4</td>\n",
              "    </tr>\n",
              "    <tr>\n",
              "      <th>26208</th>\n",
              "      <td>26209</td>\n",
              "      <td>Limes</td>\n",
              "      <td>24</td>\n",
              "      <td>4</td>\n",
              "    </tr>\n",
              "    <tr>\n",
              "      <th>27844</th>\n",
              "      <td>27845</td>\n",
              "      <td>Organic Whole Milk</td>\n",
              "      <td>84</td>\n",
              "      <td>16</td>\n",
              "    </tr>\n",
              "    <tr>\n",
              "      <th>47208</th>\n",
              "      <td>47209</td>\n",
              "      <td>Organic Hass Avocado</td>\n",
              "      <td>24</td>\n",
              "      <td>4</td>\n",
              "    </tr>\n",
              "    <tr>\n",
              "      <th>47625</th>\n",
              "      <td>47626</td>\n",
              "      <td>Large Lemon</td>\n",
              "      <td>24</td>\n",
              "      <td>4</td>\n",
              "    </tr>\n",
              "    <tr>\n",
              "      <th>47765</th>\n",
              "      <td>47766</td>\n",
              "      <td>Organic Avocado</td>\n",
              "      <td>24</td>\n",
              "      <td>4</td>\n",
              "    </tr>\n",
              "  </tbody>\n",
              "</table>\n",
              "</div>"
            ],
            "text/plain": [
              "       product_id            product_name  aisle_id  department_id\n",
              "13175       13176  Bag of Organic Bananas        24              4\n",
              "16796       16797            Strawberries        24              4\n",
              "21136       21137    Organic Strawberries        24              4\n",
              "21902       21903    Organic Baby Spinach       123              4\n",
              "24851       24852                  Banana        24              4\n",
              "26208       26209                   Limes        24              4\n",
              "27844       27845      Organic Whole Milk        84             16\n",
              "47208       47209    Organic Hass Avocado        24              4\n",
              "47625       47626             Large Lemon        24              4\n",
              "47765       47766         Organic Avocado        24              4"
            ]
          },
          "metadata": {
            "tags": []
          },
          "execution_count": 104
        }
      ]
    },
    {
      "cell_type": "markdown",
      "metadata": {
        "id": "Nscq7sQyHDku"
      },
      "source": [
        "###5) Crete a dataset called product_orders that merges order_products and products. "
      ]
    },
    {
      "cell_type": "code",
      "metadata": {
        "id": "ITIGOLaFIrAx",
        "outputId": "eaf854be-ee21-4338-8e37-bfee5f44b98d",
        "colab": {
          "base_uri": "https://localhost:8080/",
          "height": 255
        }
      },
      "source": [
        "##### YOUR CODE HERE #####\n",
        "# Change of names. (To not lose work) I am going to be merging filtered_products with order_products_mapped. I could just as easily run the filter on order_products_mapped\n",
        " # order_products_mapped.shape = (33819106,5)\n",
        "order_products_mapped_ten = order_products_mapped[order_products_mapped['product_name'].isin(top_ten)]\n",
        "# order_products_mapped_ten.shape = 2418314,5 meaning ~31M orders were not of top ten items. Mr. Pareto???\n",
        "order_products_mapped_ten = order_products_mapped_ten.sort_values(by=\"order_id\")\n",
        "#Glad I got that finally sorted (pun intended)\n",
        "order_products_mapped_ten.head()\n",
        "\n",
        "## Now for lambda's way:\n",
        "product_orders = pd.merge_ordered(order_products, filtered_products[['product_id','product_name']], on='product_id'  )\n",
        "product_orders.head()\n",
        "## Of course there will be lots of NAN"
      ],
      "execution_count": 135,
      "outputs": [
        {
          "output_type": "execute_result",
          "data": {
            "text/plain": [
              "<bound method NDFrame.head of           order_id  product_id  add_to_cart_order  reordered product_name\n",
              "0             1107           1                  7          0          NaN\n",
              "1             5319           1                  3          1          NaN\n",
              "2             7540           1                  4          1          NaN\n",
              "3             9228           1                  2          0          NaN\n",
              "4             9273           1                 30          0          NaN\n",
              "...            ...         ...                ...        ...          ...\n",
              "33819101   3401313       49688                  5          0          NaN\n",
              "33819102    655800       49688                 10          1          NaN\n",
              "33819103   2198380       49688                 10          0          NaN\n",
              "33819104   2508423       49688                  3          0          NaN\n",
              "33819105   2986153       49688                 16          0          NaN\n",
              "\n",
              "[33819106 rows x 5 columns]>"
            ]
          },
          "metadata": {
            "tags": []
          },
          "execution_count": 135
        }
      ]
    },
    {
      "cell_type": "markdown",
      "metadata": {
        "id": "YRHPcif3Ifec"
      },
      "source": [
        "###6) Create a dataset called merged that merges product_orders and orders."
      ]
    },
    {
      "cell_type": "code",
      "metadata": {
        "id": "tO4YHAoqIsG0"
      },
      "source": [
        "##### YOUR CODE HERE #####\n"
      ],
      "execution_count": null,
      "outputs": []
    },
    {
      "cell_type": "markdown",
      "metadata": {
        "id": "mahfBn13ItUW"
      },
      "source": [
        "###7) Print the top 5 rows of the merged dataset."
      ]
    },
    {
      "cell_type": "code",
      "metadata": {
        "id": "PksyftriJG7R",
        "outputId": "1efbae6c-22db-4550-ad0b-9647fa61074c",
        "colab": {
          "base_uri": "https://localhost:8080/",
          "height": 204
        }
      },
      "source": [
        "##### YOUR CODE HERE #####\n",
        "order_products_mapped_ten.head()"
      ],
      "execution_count": 136,
      "outputs": [
        {
          "output_type": "execute_result",
          "data": {
            "text/html": [
              "<div>\n",
              "<style scoped>\n",
              "    .dataframe tbody tr th:only-of-type {\n",
              "        vertical-align: middle;\n",
              "    }\n",
              "\n",
              "    .dataframe tbody tr th {\n",
              "        vertical-align: top;\n",
              "    }\n",
              "\n",
              "    .dataframe thead th {\n",
              "        text-align: right;\n",
              "    }\n",
              "</style>\n",
              "<table border=\"1\" class=\"dataframe\">\n",
              "  <thead>\n",
              "    <tr style=\"text-align: right;\">\n",
              "      <th></th>\n",
              "      <th>order_id</th>\n",
              "      <th>product_id</th>\n",
              "      <th>add_to_cart_order</th>\n",
              "      <th>reordered</th>\n",
              "      <th>product_name</th>\n",
              "    </tr>\n",
              "  </thead>\n",
              "  <tbody>\n",
              "    <tr>\n",
              "      <th>1039726</th>\n",
              "      <td>1</td>\n",
              "      <td>13176</td>\n",
              "      <td>6</td>\n",
              "      <td>0</td>\n",
              "      <td>Bag of Organic Bananas</td>\n",
              "    </tr>\n",
              "    <tr>\n",
              "      <th>1532449</th>\n",
              "      <td>1</td>\n",
              "      <td>47209</td>\n",
              "      <td>7</td>\n",
              "      <td>0</td>\n",
              "      <td>Organic Hass Avocado</td>\n",
              "    </tr>\n",
              "    <tr>\n",
              "      <th>262494</th>\n",
              "      <td>3</td>\n",
              "      <td>21903</td>\n",
              "      <td>4</td>\n",
              "      <td>1</td>\n",
              "      <td>Organic Baby Spinach</td>\n",
              "    </tr>\n",
              "    <tr>\n",
              "      <th>1318865</th>\n",
              "      <td>5</td>\n",
              "      <td>47209</td>\n",
              "      <td>22</td>\n",
              "      <td>0</td>\n",
              "      <td>Organic Hass Avocado</td>\n",
              "    </tr>\n",
              "    <tr>\n",
              "      <th>660276</th>\n",
              "      <td>5</td>\n",
              "      <td>13176</td>\n",
              "      <td>1</td>\n",
              "      <td>1</td>\n",
              "      <td>Bag of Organic Bananas</td>\n",
              "    </tr>\n",
              "  </tbody>\n",
              "</table>\n",
              "</div>"
            ],
            "text/plain": [
              "         order_id  product_id  ...  reordered            product_name\n",
              "1039726         1       13176  ...          0  Bag of Organic Bananas\n",
              "1532449         1       47209  ...          0    Organic Hass Avocado\n",
              "262494          3       21903  ...          1    Organic Baby Spinach\n",
              "1318865         5       47209  ...          0    Organic Hass Avocado\n",
              "660276          5       13176  ...          1  Bag of Organic Bananas\n",
              "\n",
              "[5 rows x 5 columns]"
            ]
          },
          "metadata": {
            "tags": []
          },
          "execution_count": 136
        }
      ]
    },
    {
      "cell_type": "markdown",
      "metadata": {
        "id": "gr_MfVycJHkv"
      },
      "source": [
        "###9) Print the number of times each food appears in the merged dataset.  (Hint: use .valuecounts() )"
      ]
    },
    {
      "cell_type": "code",
      "metadata": {
        "id": "E4J8KRc6Je2y",
        "outputId": "8957ab4a-c1d0-4033-c9c8-4f4d1be2799f",
        "colab": {
          "base_uri": "https://localhost:8080/",
          "height": 204
        }
      },
      "source": [
        "##### YOUR CODE HERE #####\n",
        "order_products_mapped_ten['product_name'].value_counts()\n",
        "# They add up bzw tie out to the number previously determined"
      ],
      "execution_count": 138,
      "outputs": [
        {
          "output_type": "execute_result",
          "data": {
            "text/plain": [
              "Banana                    491291\n",
              "Bag of Organic Bananas    394930\n",
              "Organic Strawberries      275577\n",
              "Organic Baby Spinach      251705\n",
              "Organic Hass Avocado      220877\n",
              "Organic Avocado           184224\n",
              "Large Lemon               160792\n",
              "Strawberries              149445\n",
              "Limes                     146660\n",
              "Organic Whole Milk        142813\n",
              "Name: product_name, dtype: int64"
            ]
          },
          "metadata": {
            "tags": []
          },
          "execution_count": 138
        }
      ]
    },
    {
      "cell_type": "markdown",
      "metadata": {
        "id": "txTW_ljCJfqn"
      },
      "source": [
        "###10) Run the following code to test for duplicate products in a single order."
      ]
    },
    {
      "cell_type": "code",
      "metadata": {
        "id": "TdZ6mPCMK6D9",
        "outputId": "c89ca499-668c-44e7-85e3-8fcd7f7f9dea",
        "colab": {
          "base_uri": "https://localhost:8080/",
          "height": 51
        }
      },
      "source": [
        "##### Run this code #####\n",
        "\n",
        "order_products_mapped_ten.duplicated(subset=['order_id', 'product_id']).value_counts()"
      ],
      "execution_count": 140,
      "outputs": [
        {
          "output_type": "execute_result",
          "data": {
            "text/plain": [
              "False    2418314\n",
              "dtype: int64"
            ]
          },
          "metadata": {
            "tags": []
          },
          "execution_count": 140
        }
      ]
    },
    {
      "cell_type": "markdown",
      "metadata": {
        "id": "MWVf03Vb8AnZ"
      },
      "source": [
        "### Conclusion? - This dataset does not have any information about the quantity of items ordered, only unique items ordered and whether the shopper had bought any items in past visits. So our counts of how many times the top 10 products were ordered will really be the number of orders that the top 10 products were included in."
      ]
    },
    {
      "cell_type": "markdown",
      "metadata": {
        "id": "fBhYzADA8vve"
      },
      "source": [
        "### In order to count the frequency of orders of a given product we need to combine orders and products so that we have names associated with the products in each order."
      ]
    },
    {
      "cell_type": "markdown",
      "metadata": {
        "id": "0V8y6orrLdEk"
      },
      "source": [
        "###11) Print the top 5 rows of the products dataset."
      ]
    },
    {
      "cell_type": "code",
      "metadata": {
        "id": "LNuvDvrfMCn7"
      },
      "source": [
        "##### YOUR CODE HERE #####\n"
      ],
      "execution_count": null,
      "outputs": []
    },
    {
      "cell_type": "markdown",
      "metadata": {
        "id": "CxvLkg5LMSB1"
      },
      "source": [
        "###12) Merge together the order_products and products datasets and call the dataset product_orders."
      ]
    },
    {
      "cell_type": "code",
      "metadata": {
        "id": "WKHLzyMr8vEF"
      },
      "source": [
        "##### YOUR CODE HERE #####\n",
        "# I think I've done this. I think last cell ahead is last thing I need. "
      ],
      "execution_count": null,
      "outputs": []
    },
    {
      "cell_type": "markdown",
      "metadata": {
        "id": "F1LdFD3tOJvh"
      },
      "source": [
        "###13) Determine the number of unique instances of 'product name'.  This will tell you how many times each of the top 10 products was ordered."
      ]
    },
    {
      "cell_type": "code",
      "metadata": {
        "id": "V-iLvnQ2BX3-",
        "outputId": "f4bc7ebe-9076-4573-feda-2d527b3ec07f",
        "colab": {
          "base_uri": "https://localhost:8080/",
          "height": 204
        }
      },
      "source": [
        "##### YOUR CODE HERE #####\n",
        "# but not the total number of them\n",
        "#isn't this the same as above? I can't keep track of which table is what though, because I jumped ahead and stuck with my system\n",
        "order_products_mapped_ten['product_name'].value_counts()"
      ],
      "execution_count": 142,
      "outputs": [
        {
          "output_type": "execute_result",
          "data": {
            "text/plain": [
              "Banana                    491291\n",
              "Bag of Organic Bananas    394930\n",
              "Organic Strawberries      275577\n",
              "Organic Baby Spinach      251705\n",
              "Organic Hass Avocado      220877\n",
              "Organic Avocado           184224\n",
              "Large Lemon               160792\n",
              "Strawberries              149445\n",
              "Limes                     146660\n",
              "Organic Whole Milk        142813\n",
              "Name: product_name, dtype: int64"
            ]
          },
          "metadata": {
            "tags": []
          },
          "execution_count": 142
        }
      ]
    },
    {
      "cell_type": "markdown",
      "metadata": {
        "id": "mh-XJVuyDbRt"
      },
      "source": [
        "# Portfolio Project Milestone\n",
        "\n",
        "Watch the Portfolio Project (formerly known as Build Week) kickoff video to get a sense of what you will accomplish over the next few weeks:\n",
        "https://youtu.be/WYi9EXH-9lU"
      ]
    }
  ]
}